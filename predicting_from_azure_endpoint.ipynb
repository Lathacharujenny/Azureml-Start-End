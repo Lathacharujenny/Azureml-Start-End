{
 "cells": [
  {
   "cell_type": "code",
   "execution_count": 12,
   "id": "f707221f",
   "metadata": {},
   "outputs": [
    {
     "name": "stdout",
     "output_type": "stream",
     "text": [
      "{'result': [0, 0, 0, 1, 0, 0, 0, 0, 1]}\n"
     ]
    }
   ],
   "source": [
    "import json\n",
    "import requests\n",
    "import pandas as pd\n",
    "\n",
    "#input = [1.0, 85.0, 66.0, 29.0, 0.0, 26.6, 0.351, 31.0]\n",
    "\n",
    "\n",
    "data = pd.read_csv('test.csv')\n",
    "test_data = data.values.tolist()\n",
    "input_data_json = json.dumps({'data':test_data})\n",
    "url = 'http://2d521a71-a325-41f1-a824-f3fc076b511c.eastus2.azurecontainer.io/score'\n",
    "\n",
    "headers = {'content-type': 'applicaiton/json'}\n",
    "\n",
    "response = requests.post(url=url, headers=headers, data=input_data_json)\n",
    "\n",
    "if response.status_code==200:\n",
    "    result = json.loads(response.json())\n",
    "    print(result)\n",
    "else:\n",
    "    print(f'Error: {response.text}')"
   ]
  }
 ],
 "metadata": {
  "kernelspec": {
   "display_name": "Python 3 (ipykernel)",
   "language": "python",
   "name": "python3"
  },
  "language_info": {
   "codemirror_mode": {
    "name": "ipython",
    "version": 3
   },
   "file_extension": ".py",
   "mimetype": "text/x-python",
   "name": "python",
   "nbconvert_exporter": "python",
   "pygments_lexer": "ipython3",
   "version": "3.11.5"
  },
  "varInspector": {
   "cols": {
    "lenName": 16,
    "lenType": 16,
    "lenVar": 40
   },
   "kernels_config": {
    "python": {
     "delete_cmd_postfix": "",
     "delete_cmd_prefix": "del ",
     "library": "var_list.py",
     "varRefreshCmd": "print(var_dic_list())"
    },
    "r": {
     "delete_cmd_postfix": ") ",
     "delete_cmd_prefix": "rm(",
     "library": "var_list.r",
     "varRefreshCmd": "cat(var_dic_list()) "
    }
   },
   "types_to_exclude": [
    "module",
    "function",
    "builtin_function_or_method",
    "instance",
    "_Feature"
   ],
   "window_display": false
  }
 },
 "nbformat": 4,
 "nbformat_minor": 5
}
